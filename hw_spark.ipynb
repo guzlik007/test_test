{
 "cells": [
  {
   "cell_type": "code",
   "id": "initial_id",
   "metadata": {
    "collapsed": true,
    "ExecuteTime": {
     "end_time": "2025-06-26T14:55:15.720152Z",
     "start_time": "2025-06-26T14:55:15.716602Z"
    }
   },
   "source": [
    "import csv\n",
    "import random\n",
    "from faker import Faker\n",
    "from pyspark.sql import SparkSession\n",
    "from pyspark.sql.functions import col, to_date"
   ],
   "outputs": [],
   "execution_count": 23
  },
  {
   "metadata": {
    "ExecuteTime": {
     "end_time": "2025-06-26T14:37:44.910536Z",
     "start_time": "2025-06-26T14:37:39.662864Z"
    }
   },
   "cell_type": "code",
   "source": [
    "fake = Faker()\n",
    "\n",
    "num_records = 100000\n",
    "\n",
    "http_methods = ['GET', 'POST', 'PUT', 'DELETE']\n",
    "response_codes = [200, 301, 404, 500]\n",
    "\n",
    "file_path = \"web_server_logs.csv\"\n",
    "\n",
    "with open(file_path, mode='w', newline='') as file:\n",
    "    writer = csv.writer(file)\n",
    "    writer.writerow(['ip', 'timestamp', 'method', 'url', 'response_code', 'response_size'])\n",
    "    \n",
    "    for _ in range(num_records):\n",
    "        ip = fake.ipv4()\n",
    "        timestamp = fake.date_time_this_year().isoformat()\n",
    "        method = random.choice(http_methods)\n",
    "        url = fake.uri_path()\n",
    "        response_code = random.choice(response_codes)\n",
    "        response_size = random.randint(100, 10000)\n",
    "        \n",
    "        writer.writerow([ip, timestamp, method, url, response_code, response_size])\n",
    "\n",
    "print(f\"Сгенерировано {num_records} записей и сохранено в {file_path}\")"
   ],
   "id": "e1a28a1481f3e804",
   "outputs": [
    {
     "name": "stdout",
     "output_type": "stream",
     "text": [
      "Сгенерировано 100000 записей и сохранено в web_server_logs.csv\n"
     ]
    }
   ],
   "execution_count": 2
  },
  {
   "metadata": {
    "ExecuteTime": {
     "end_time": "2025-06-26T14:42:24.399163Z",
     "start_time": "2025-06-26T14:42:22.233130Z"
    }
   },
   "cell_type": "code",
   "source": [
    "spark = SparkSession.builder \\\n",
    "    .master(\"local[2]\") \\\n",
    "    .appName(\"MyLocalSparkApp\") \\\n",
    "    .config(\"spark.driver.host\", \"127.0.0.1\") \\\n",
    "    .getOrCreate()"
   ],
   "id": "fc65b6fd5814d82c",
   "outputs": [],
   "execution_count": 4
  },
  {
   "metadata": {
    "ExecuteTime": {
     "end_time": "2025-06-26T14:43:19.543488Z",
     "start_time": "2025-06-26T14:43:16.101285Z"
    }
   },
   "cell_type": "code",
   "source": "df = spark.read.csv('web_server_logs.csv', header=True, inferSchema=True)",
   "id": "625883b0fb39dc9",
   "outputs": [],
   "execution_count": 5
  },
  {
   "metadata": {
    "ExecuteTime": {
     "end_time": "2025-06-26T14:43:23.854115Z",
     "start_time": "2025-06-26T14:43:23.844805Z"
    }
   },
   "cell_type": "code",
   "source": "df.printSchema()",
   "id": "41e8f9559233c15d",
   "outputs": [
    {
     "name": "stdout",
     "output_type": "stream",
     "text": [
      "root\n",
      " |-- ip: string (nullable = true)\n",
      " |-- timestamp: timestamp (nullable = true)\n",
      " |-- method: string (nullable = true)\n",
      " |-- url: string (nullable = true)\n",
      " |-- response_code: integer (nullable = true)\n",
      " |-- response_size: integer (nullable = true)\n",
      "\n"
     ]
    }
   ],
   "execution_count": 6
  },
  {
   "metadata": {
    "ExecuteTime": {
     "end_time": "2025-06-26T14:44:06.332754Z",
     "start_time": "2025-06-26T14:44:05.761290Z"
    }
   },
   "cell_type": "code",
   "source": "df.na.drop().count() == df.count()",
   "id": "d9b934160c0f32f1",
   "outputs": [
    {
     "data": {
      "text/plain": [
       "True"
      ]
     },
     "execution_count": 8,
     "metadata": {},
     "output_type": "execute_result"
    }
   ],
   "execution_count": 8
  },
  {
   "metadata": {
    "ExecuteTime": {
     "end_time": "2025-06-26T14:50:24.851838Z",
     "start_time": "2025-06-26T14:50:24.326385Z"
    }
   },
   "cell_type": "code",
   "source": [
    "df.groupBy('ip').agg({'ip':'count'}).orderBy(col('count(ip)').desc()) \\\n",
    "  .withColumnRenamed('count(ip)', 'request_count').show(10)"
   ],
   "id": "e91386b7c27960d1",
   "outputs": [
    {
     "name": "stdout",
     "output_type": "stream",
     "text": [
      "+--------------+-------------+\n",
      "|            ip|request_count|\n",
      "+--------------+-------------+\n",
      "|  139.5.91.252|            2|\n",
      "|  52.158.83.23|            1|\n",
      "| 65.201.178.68|            1|\n",
      "| 212.3.209.127|            1|\n",
      "|  152.31.3.179|            1|\n",
      "|  155.91.95.29|            1|\n",
      "| 217.79.198.91|            1|\n",
      "| 135.186.20.41|            1|\n",
      "|129.105.233.49|            1|\n",
      "|19.160.216.242|            1|\n",
      "+--------------+-------------+\n",
      "only showing top 10 rows\n"
     ]
    }
   ],
   "execution_count": 19
  },
  {
   "metadata": {
    "ExecuteTime": {
     "end_time": "2025-06-26T14:53:05.986918Z",
     "start_time": "2025-06-26T14:53:05.783855Z"
    }
   },
   "cell_type": "code",
   "source": "df.groupBy('method').agg({'method': 'count'}).withColumnRenamed('count(method)', 'method_count').show(10)",
   "id": "7ab3c9d192be48d8",
   "outputs": [
    {
     "name": "stdout",
     "output_type": "stream",
     "text": [
      "+------+------------+\n",
      "|method|method_count|\n",
      "+------+------------+\n",
      "|  POST|       24701|\n",
      "|DELETE|       25121|\n",
      "|   PUT|       24982|\n",
      "|   GET|       25196|\n",
      "+------+------------+\n",
      "\n"
     ]
    }
   ],
   "execution_count": 20
  },
  {
   "metadata": {
    "ExecuteTime": {
     "end_time": "2025-06-26T14:53:38.996167Z",
     "start_time": "2025-06-26T14:53:38.804651Z"
    }
   },
   "cell_type": "code",
   "source": "df.filter(col('response_code') == 404).count()",
   "id": "146bf784746eb796",
   "outputs": [
    {
     "data": {
      "text/plain": [
       "25083"
      ]
     },
     "execution_count": 21,
     "metadata": {},
     "output_type": "execute_result"
    }
   ],
   "execution_count": 21
  },
  {
   "metadata": {
    "ExecuteTime": {
     "end_time": "2025-06-26T14:57:19.548077Z",
     "start_time": "2025-06-26T14:57:19.286799Z"
    }
   },
   "cell_type": "code",
   "source": [
    "df.groupBy(to_date(col('timestamp'))).agg({'response_size': 'sum'}) \\\n",
    "   .withColumnRenamed('to_date(timestamp)', 'date') \\\n",
    "   .withColumnRenamed('sum(response_size)', 'total_response_size').show()"
   ],
   "id": "b9bb1df8262e09b0",
   "outputs": [
    {
     "name": "stdout",
     "output_type": "stream",
     "text": [
      "+----------+-------------------+\n",
      "|      date|total_response_size|\n",
      "+----------+-------------------+\n",
      "|2025-02-16|            2833020|\n",
      "|2025-06-08|            2988139|\n",
      "|2025-02-15|            2584440|\n",
      "|2025-02-01|            2876680|\n",
      "|2025-03-23|            2839793|\n",
      "|2025-04-17|            2778400|\n",
      "|2025-02-05|            2699617|\n",
      "|2025-02-13|            2777407|\n",
      "|2025-05-13|            2958978|\n",
      "|2025-05-15|            2801883|\n",
      "|2025-03-16|            2769734|\n",
      "|2025-02-06|            2839418|\n",
      "|2025-01-09|            2825174|\n",
      "|2025-02-12|            2649551|\n",
      "|2025-05-30|            2946840|\n",
      "|2025-04-21|            2764348|\n",
      "|2025-06-05|            2856733|\n",
      "|2025-03-03|            2766850|\n",
      "|2025-02-22|            2917399|\n",
      "|2025-01-14|            2740042|\n",
      "+----------+-------------------+\n",
      "only showing top 20 rows\n"
     ]
    }
   ],
   "execution_count": 26
  },
  {
   "metadata": {},
   "cell_type": "code",
   "outputs": [],
   "execution_count": null,
   "source": "",
   "id": "5ec8406826baa373"
  }
 ],
 "metadata": {
  "kernelspec": {
   "display_name": "Python 3",
   "language": "python",
   "name": "python3"
  },
  "language_info": {
   "codemirror_mode": {
    "name": "ipython",
    "version": 2
   },
   "file_extension": ".py",
   "mimetype": "text/x-python",
   "name": "python",
   "nbconvert_exporter": "python",
   "pygments_lexer": "ipython2",
   "version": "2.7.6"
  }
 },
 "nbformat": 4,
 "nbformat_minor": 5
}
